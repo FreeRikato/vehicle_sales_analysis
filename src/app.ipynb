{
 "cells": [
  {
   "cell_type": "markdown",
   "metadata": {},
   "source": [
    "# Vehicle Sales Data"
   ]
  },
  {
   "cell_type": "code",
   "execution_count": 17,
   "metadata": {},
   "outputs": [
    {
     "name": "stdout",
     "output_type": "stream",
     "text": [
      "Note: you may need to restart the kernel to use updated packages.\n"
     ]
    }
   ],
   "source": [
    "# Installing the necessary libraries\n",
    "%pip -q install pandas numpy openpyxl matplotlib rich"
   ]
  },
  {
   "cell_type": "markdown",
   "metadata": {},
   "source": [
    "## Data Loading"
   ]
  },
  {
   "cell_type": "code",
   "execution_count": 18,
   "metadata": {},
   "outputs": [],
   "source": [
    "import pandas as pd"
   ]
  },
  {
   "cell_type": "code",
   "execution_count": 19,
   "metadata": {},
   "outputs": [],
   "source": [
    "df = pd.read_excel(\"./Vehicle Sales Data.xlsx\")"
   ]
  },
  {
   "cell_type": "code",
   "execution_count": 20,
   "metadata": {},
   "outputs": [
    {
     "data": {
      "text/html": [
       "<div>\n",
       "<style scoped>\n",
       "    .dataframe tbody tr th:only-of-type {\n",
       "        vertical-align: middle;\n",
       "    }\n",
       "\n",
       "    .dataframe tbody tr th {\n",
       "        vertical-align: top;\n",
       "    }\n",
       "\n",
       "    .dataframe thead th {\n",
       "        text-align: right;\n",
       "    }\n",
       "</style>\n",
       "<table border=\"1\" class=\"dataframe\">\n",
       "  <thead>\n",
       "    <tr style=\"text-align: right;\">\n",
       "      <th></th>\n",
       "      <th>Vehicle Full Code</th>\n",
       "      <th>Vehicle Code</th>\n",
       "      <th>OEM Model Name</th>\n",
       "      <th>SIAM Company Code</th>\n",
       "      <th>SIAM Segment 1</th>\n",
       "      <th>SIAM Segment 2</th>\n",
       "      <th>SIAM Fuel</th>\n",
       "      <th>Month</th>\n",
       "      <th>Year</th>\n",
       "      <th>Production Qty</th>\n",
       "      <th>Domestic Sale</th>\n",
       "      <th>Export Sale</th>\n",
       "      <th>Category</th>\n",
       "      <th>Category Name</th>\n",
       "      <th>YrMth</th>\n",
       "    </tr>\n",
       "  </thead>\n",
       "  <tbody>\n",
       "    <tr>\n",
       "      <th>0</th>\n",
       "      <td>HMPVF2U4DI</td>\n",
       "      <td>PV</td>\n",
       "      <td>PAJRO SFX</td>\n",
       "      <td>HINDUSTAN MOTORS LTD</td>\n",
       "      <td>SUV</td>\n",
       "      <td>UV4:</td>\n",
       "      <td>DIESEL</td>\n",
       "      <td>NOV</td>\n",
       "      <td>2012</td>\n",
       "      <td>0</td>\n",
       "      <td>0</td>\n",
       "      <td>0</td>\n",
       "      <td>PVUV</td>\n",
       "      <td>Utility vehicles PV</td>\n",
       "      <td>01-11-2012</td>\n",
       "    </tr>\n",
       "    <tr>\n",
       "      <th>1</th>\n",
       "      <td>HMORF2U4DI</td>\n",
       "      <td>OR</td>\n",
       "      <td>OUTLANDER</td>\n",
       "      <td>HINDUSTAN MOTORS LTD</td>\n",
       "      <td>SUV</td>\n",
       "      <td>UV4:</td>\n",
       "      <td>DIESEL</td>\n",
       "      <td>NOV</td>\n",
       "      <td>2012</td>\n",
       "      <td>0</td>\n",
       "      <td>0</td>\n",
       "      <td>0</td>\n",
       "      <td>PVUV</td>\n",
       "      <td>Utility vehicles PV</td>\n",
       "      <td>01-11-2012</td>\n",
       "    </tr>\n",
       "    <tr>\n",
       "      <th>2</th>\n",
       "      <td>SKOAP3EEDI</td>\n",
       "      <td>OA</td>\n",
       "      <td>Octavia</td>\n",
       "      <td>SKODAAUTO INDIA PVT LTD</td>\n",
       "      <td>Premium Car 3</td>\n",
       "      <td>Executive</td>\n",
       "      <td>DIESEL</td>\n",
       "      <td>NOV</td>\n",
       "      <td>2012</td>\n",
       "      <td>0</td>\n",
       "      <td>0</td>\n",
       "      <td>0</td>\n",
       "      <td>PVPC</td>\n",
       "      <td>Passenger car PV</td>\n",
       "      <td>01-11-2012</td>\n",
       "    </tr>\n",
       "    <tr>\n",
       "      <th>3</th>\n",
       "      <td>HMORF2U4PT</td>\n",
       "      <td>OR</td>\n",
       "      <td>OUTLANDER</td>\n",
       "      <td>HINDUSTAN MOTORS LTD</td>\n",
       "      <td>SUV</td>\n",
       "      <td>UV4:</td>\n",
       "      <td>PETROL</td>\n",
       "      <td>NOV</td>\n",
       "      <td>2012</td>\n",
       "      <td>0</td>\n",
       "      <td>6</td>\n",
       "      <td>0</td>\n",
       "      <td>PVUV</td>\n",
       "      <td>Utility vehicles PV</td>\n",
       "      <td>01-11-2012</td>\n",
       "    </tr>\n",
       "    <tr>\n",
       "      <th>4</th>\n",
       "      <td>FMTXF1U3PT</td>\n",
       "      <td>TX</td>\n",
       "      <td>Trax</td>\n",
       "      <td>FORCE MOTORS LTD</td>\n",
       "      <td>MPV</td>\n",
       "      <td>UV3</td>\n",
       "      <td>PETROL</td>\n",
       "      <td>MAY</td>\n",
       "      <td>2012</td>\n",
       "      <td>0</td>\n",
       "      <td>0</td>\n",
       "      <td>0</td>\n",
       "      <td>PVUV</td>\n",
       "      <td>Utility vehicles PV</td>\n",
       "      <td>01-05-2012</td>\n",
       "    </tr>\n",
       "  </tbody>\n",
       "</table>\n",
       "</div>"
      ],
      "text/plain": [
       "  Vehicle Full Code Vehicle Code OEM Model Name        SIAM Company Code  \\\n",
       "0        HMPVF2U4DI           PV      PAJRO SFX     HINDUSTAN MOTORS LTD   \n",
       "1        HMORF2U4DI           OR      OUTLANDER     HINDUSTAN MOTORS LTD   \n",
       "2        SKOAP3EEDI           OA        Octavia  SKODAAUTO INDIA PVT LTD   \n",
       "3        HMORF2U4PT           OR      OUTLANDER     HINDUSTAN MOTORS LTD   \n",
       "4        FMTXF1U3PT           TX           Trax         FORCE MOTORS LTD   \n",
       "\n",
       "  SIAM Segment 1 SIAM Segment 2 SIAM Fuel Month  Year  Production Qty  \\\n",
       "0            SUV           UV4:    DIESEL   NOV  2012               0   \n",
       "1            SUV           UV4:    DIESEL   NOV  2012               0   \n",
       "2  Premium Car 3      Executive    DIESEL   NOV  2012               0   \n",
       "3            SUV           UV4:    PETROL   NOV  2012               0   \n",
       "4            MPV            UV3    PETROL   MAY  2012               0   \n",
       "\n",
       "   Domestic Sale  Export Sale Category        Category Name       YrMth  \n",
       "0              0            0     PVUV  Utility vehicles PV  01-11-2012  \n",
       "1              0            0     PVUV  Utility vehicles PV  01-11-2012  \n",
       "2              0            0     PVPC     Passenger car PV  01-11-2012  \n",
       "3              6            0     PVUV  Utility vehicles PV  01-11-2012  \n",
       "4              0            0     PVUV  Utility vehicles PV  01-05-2012  "
      ]
     },
     "execution_count": 20,
     "metadata": {},
     "output_type": "execute_result"
    }
   ],
   "source": [
    "df.head()"
   ]
  },
  {
   "cell_type": "markdown",
   "metadata": {},
   "source": [
    "## Exporatory Data Analysis"
   ]
  },
  {
   "cell_type": "code",
   "execution_count": 21,
   "metadata": {},
   "outputs": [
    {
     "name": "stdout",
     "output_type": "stream",
     "text": [
      "<class 'pandas.core.frame.DataFrame'>\n",
      "RangeIndex: 19666 entries, 0 to 19665\n",
      "Data columns (total 15 columns):\n",
      " #   Column             Non-Null Count  Dtype \n",
      "---  ------             --------------  ----- \n",
      " 0   Vehicle Full Code  19666 non-null  object\n",
      " 1   Vehicle Code       19666 non-null  object\n",
      " 2   OEM Model Name     19666 non-null  object\n",
      " 3   SIAM Company Code  19666 non-null  object\n",
      " 4   SIAM Segment 1     19654 non-null  object\n",
      " 5   SIAM Segment 2     19666 non-null  object\n",
      " 6   SIAM Fuel          19648 non-null  object\n",
      " 7   Month              19666 non-null  object\n",
      " 8   Year               19666 non-null  int64 \n",
      " 9   Production Qty     19666 non-null  int64 \n",
      " 10  Domestic Sale      19666 non-null  int64 \n",
      " 11  Export Sale        19666 non-null  int64 \n",
      " 12  Category           18569 non-null  object\n",
      " 13  Category Name      18569 non-null  object\n",
      " 14  YrMth              19666 non-null  object\n",
      "dtypes: int64(4), object(11)\n",
      "memory usage: 2.3+ MB\n"
     ]
    }
   ],
   "source": [
    "df.info()"
   ]
  },
  {
   "cell_type": "code",
   "execution_count": 22,
   "metadata": {},
   "outputs": [
    {
     "data": {
      "text/html": [
       "<div>\n",
       "<style scoped>\n",
       "    .dataframe tbody tr th:only-of-type {\n",
       "        vertical-align: middle;\n",
       "    }\n",
       "\n",
       "    .dataframe tbody tr th {\n",
       "        vertical-align: top;\n",
       "    }\n",
       "\n",
       "    .dataframe thead th {\n",
       "        text-align: right;\n",
       "    }\n",
       "</style>\n",
       "<table border=\"1\" class=\"dataframe\">\n",
       "  <thead>\n",
       "    <tr style=\"text-align: right;\">\n",
       "      <th></th>\n",
       "      <th>Year</th>\n",
       "      <th>Production Qty</th>\n",
       "      <th>Domestic Sale</th>\n",
       "      <th>Export Sale</th>\n",
       "    </tr>\n",
       "  </thead>\n",
       "  <tbody>\n",
       "    <tr>\n",
       "      <th>count</th>\n",
       "      <td>19666.000000</td>\n",
       "      <td>19666.00000</td>\n",
       "      <td>19666.000000</td>\n",
       "      <td>19666.000000</td>\n",
       "    </tr>\n",
       "    <tr>\n",
       "      <th>mean</th>\n",
       "      <td>2015.257399</td>\n",
       "      <td>1262.62992</td>\n",
       "      <td>1126.482203</td>\n",
       "      <td>238.537628</td>\n",
       "    </tr>\n",
       "    <tr>\n",
       "      <th>std</th>\n",
       "      <td>2.290398</td>\n",
       "      <td>2957.78831</td>\n",
       "      <td>2667.334476</td>\n",
       "      <td>963.164029</td>\n",
       "    </tr>\n",
       "    <tr>\n",
       "      <th>min</th>\n",
       "      <td>2012.000000</td>\n",
       "      <td>-28.00000</td>\n",
       "      <td>-128.000000</td>\n",
       "      <td>0.000000</td>\n",
       "    </tr>\n",
       "    <tr>\n",
       "      <th>25%</th>\n",
       "      <td>2013.000000</td>\n",
       "      <td>0.00000</td>\n",
       "      <td>0.000000</td>\n",
       "      <td>0.000000</td>\n",
       "    </tr>\n",
       "    <tr>\n",
       "      <th>50%</th>\n",
       "      <td>2015.000000</td>\n",
       "      <td>35.00000</td>\n",
       "      <td>77.000000</td>\n",
       "      <td>0.000000</td>\n",
       "    </tr>\n",
       "    <tr>\n",
       "      <th>75%</th>\n",
       "      <td>2017.000000</td>\n",
       "      <td>950.75000</td>\n",
       "      <td>865.750000</td>\n",
       "      <td>1.000000</td>\n",
       "    </tr>\n",
       "    <tr>\n",
       "      <th>max</th>\n",
       "      <td>2019.000000</td>\n",
       "      <td>33128.00000</td>\n",
       "      <td>30499.000000</td>\n",
       "      <td>15088.000000</td>\n",
       "    </tr>\n",
       "  </tbody>\n",
       "</table>\n",
       "</div>"
      ],
      "text/plain": [
       "               Year  Production Qty  Domestic Sale   Export Sale\n",
       "count  19666.000000     19666.00000   19666.000000  19666.000000\n",
       "mean    2015.257399      1262.62992    1126.482203    238.537628\n",
       "std        2.290398      2957.78831    2667.334476    963.164029\n",
       "min     2012.000000       -28.00000    -128.000000      0.000000\n",
       "25%     2013.000000         0.00000       0.000000      0.000000\n",
       "50%     2015.000000        35.00000      77.000000      0.000000\n",
       "75%     2017.000000       950.75000     865.750000      1.000000\n",
       "max     2019.000000     33128.00000   30499.000000  15088.000000"
      ]
     },
     "execution_count": 22,
     "metadata": {},
     "output_type": "execute_result"
    }
   ],
   "source": [
    "df.describe()"
   ]
  },
  {
   "cell_type": "code",
   "execution_count": 23,
   "metadata": {},
   "outputs": [
    {
     "data": {
      "text/plain": [
       "Index(['Vehicle Full Code', 'Vehicle Code', 'OEM Model Name',\n",
       "       'SIAM Company Code', 'SIAM Segment 1', 'SIAM Segment 2', 'SIAM Fuel',\n",
       "       'Month', 'Year', 'Production Qty', 'Domestic Sale', 'Export Sale',\n",
       "       'Category', 'Category Name', 'YrMth'],\n",
       "      dtype='object')"
      ]
     },
     "execution_count": 23,
     "metadata": {},
     "output_type": "execute_result"
    }
   ],
   "source": [
    "df.columns"
   ]
  },
  {
   "cell_type": "markdown",
   "metadata": {},
   "source": [
    "> Data Description \n",
    "\n",
    "| **Column Name**          | **Description**                                                                                                                                                                     |\n",
    "|--------------------------|-------------------------------------------------------------------------------------------------------------------------------------------------------------------------------------|\n",
    "| **Vehicle Full Code**    | Unique identifier combining codes to represent specific details about each vehicle's make, model, or variant.                                                                      |\n",
    "| **Vehicle Code**         | Generalized code capturing high-level vehicle details, potentially at the brand or model type level.                                                                               |\n",
    "| **OEM Model Name**       | Model name assigned by the Original Equipment Manufacturer (OEM), referencing brand and model.                                                                                     |\n",
    "| **SIAM Company Code**    | Unique identifier assigned by the Society of Indian Automobile Manufacturers (SIAM) to link each entry to a manufacturer.                                                          |\n",
    "| **SIAM Segment 1**       | High-level vehicle segmentation, possibly classifying vehicles based on size, function, or market category (e.g., SUV, MPV).                                                       |\n",
    "| **SIAM Segment 2**       | Sub-segmentation offering additional detail within the primary segment, such as compact SUVs, executive sedans, etc.                                                               |\n",
    "| **SIAM Fuel**            | Specifies the vehicle's fuel type (e.g., diesel, petrol, electric), useful for tracking fuel efficiency trends and environmental impact.                                          |\n",
    "| **Month**                | Month of data recording, allowing for tracking monthly sales, production, and seasonality patterns.                                                                                |\n",
    "| **Year**                 | Year associated with the record, useful for annual trend analysis. When combined with Month, provides a more detailed temporal view.                                               |\n",
    "| **Production Qty**       | Number of vehicles produced by the OEM in the specified month and year, useful for examining production trends and supply-demand balance.                                          |\n",
    "| **Domestic Sale**        | Total units sold within the domestic market, reflecting local demand. Can be compared with exports for insights into market preferences.                                           |\n",
    "| **Export Sale**          | Number of units exported, indicating vehicles with international demand and export contributions to total sales.                                                                   |\n",
    "| **Category**             | Broad classification reflecting industry-standard categories (e.g., Passenger Vehicles, Commercial Vehicles) based on vehicle purpose or market positioning.                      |\n",
    "| **Category Name**        | Descriptive category name detailing the type of vehicle within broader categories, like \"utility vehicles\" or \"passenger cars.\" Helps in market segment understanding.             |\n",
    "| **YrMth**                | Combined Month and Year in a single format (e.g., \"01-11-2012\"), providing a unique month-year identifier for easier time-based analysis."
   ]
  },
  {
   "cell_type": "markdown",
   "metadata": {},
   "source": [
    "> Initial Observations:\n",
    "\n",
    "- Segmentation and fuel details are present in SIAM segment 1 and SIAM segment 2\n",
    "- Sales data is split across Production Qty, Domestic sale and Export sale\n",
    "- Temporal information is available in Month, Year and a combined YrMth column\n",
    "- Category and Category name describe vehicle categories but have some missing values\n",
    "\n",
    "> Analytical Opportunities:\n",
    "\n",
    "1. **Segment-Based Analysis**: The dataset allows for insights into which segments (e.g., SUV, MPV) are most popular, as well as potential shifts in consumer preference over time.\n",
    "2. **Time-Series Analysis**: Monthly and yearly data support time-series analysis, crucial for forecasting and detecting seasonality in production and sales.\n",
    "3. **Market-Specific Insights**: With both domestic and export sales data, we can compare market trends to identify vehicles that appeal across different markets.\n",
    "4. **Production vs. Sales Balance**: Examining production versus sales figures can reveal insights into production planning effectiveness and demand alignment."
   ]
  },
  {
   "cell_type": "code",
   "execution_count": 24,
   "metadata": {},
   "outputs": [
    {
     "data": {
      "text/html": [
       "<pre style=\"white-space:pre;overflow-x:auto;line-height:normal;font-family:Menlo,'DejaVu Sans Mono',consolas,'Courier New',monospace\"><span style=\"font-weight: bold\">Missing values across the dataset</span>\n",
       "</pre>\n"
      ],
      "text/plain": [
       "\u001b[1mMissing values across the dataset\u001b[0m\n"
      ]
     },
     "metadata": {},
     "output_type": "display_data"
    },
    {
     "data": {
      "text/html": [
       "<pre style=\"white-space:pre;overflow-x:auto;line-height:normal;font-family:Menlo,'DejaVu Sans Mono',consolas,'Courier New',monospace\">┏━━━━━━━━━━━━━━━━━━━━━━┳━━━━━━━━━━━━━━━━┓\n",
       "┃<span style=\"color: #800080; text-decoration-color: #800080; font-weight: bold\"> Column               </span>┃<span style=\"color: #800080; text-decoration-color: #800080; font-weight: bold\"> Missing Values </span>┃\n",
       "┡━━━━━━━━━━━━━━━━━━━━━━╇━━━━━━━━━━━━━━━━┩\n",
       "│<span style=\"color: #7f7f7f; text-decoration-color: #7f7f7f\"> Vehicle Full Code    </span>│              0 │\n",
       "│<span style=\"color: #7f7f7f; text-decoration-color: #7f7f7f\"> Vehicle Code         </span>│              0 │\n",
       "│<span style=\"color: #7f7f7f; text-decoration-color: #7f7f7f\"> OEM Model Name       </span>│              0 │\n",
       "│<span style=\"color: #7f7f7f; text-decoration-color: #7f7f7f\"> SIAM Company Code    </span>│              0 │\n",
       "│<span style=\"color: #7f7f7f; text-decoration-color: #7f7f7f\"> SIAM Segment 1       </span>│             12 │\n",
       "│<span style=\"color: #7f7f7f; text-decoration-color: #7f7f7f\"> SIAM Segment 2       </span>│              0 │\n",
       "│<span style=\"color: #7f7f7f; text-decoration-color: #7f7f7f\"> SIAM Fuel            </span>│             18 │\n",
       "│<span style=\"color: #7f7f7f; text-decoration-color: #7f7f7f\"> Month                </span>│              0 │\n",
       "│<span style=\"color: #7f7f7f; text-decoration-color: #7f7f7f\"> Year                 </span>│              0 │\n",
       "│<span style=\"color: #7f7f7f; text-decoration-color: #7f7f7f\"> Production Qty       </span>│              0 │\n",
       "│<span style=\"color: #7f7f7f; text-decoration-color: #7f7f7f\"> Domestic Sale        </span>│              0 │\n",
       "│<span style=\"color: #7f7f7f; text-decoration-color: #7f7f7f\"> Export Sale          </span>│              0 │\n",
       "│<span style=\"color: #7f7f7f; text-decoration-color: #7f7f7f\"> Category             </span>│           1097 │\n",
       "│<span style=\"color: #7f7f7f; text-decoration-color: #7f7f7f\"> Category Name        </span>│           1097 │\n",
       "│<span style=\"color: #7f7f7f; text-decoration-color: #7f7f7f\"> YrMth                </span>│              0 │\n",
       "└──────────────────────┴────────────────┘\n",
       "</pre>\n"
      ],
      "text/plain": [
       "┏━━━━━━━━━━━━━━━━━━━━━━┳━━━━━━━━━━━━━━━━┓\n",
       "┃\u001b[1;35m \u001b[0m\u001b[1;35mColumn              \u001b[0m\u001b[1;35m \u001b[0m┃\u001b[1;35m \u001b[0m\u001b[1;35mMissing Values\u001b[0m\u001b[1;35m \u001b[0m┃\n",
       "┡━━━━━━━━━━━━━━━━━━━━━━╇━━━━━━━━━━━━━━━━┩\n",
       "│\u001b[2m \u001b[0m\u001b[2mVehicle Full Code   \u001b[0m\u001b[2m \u001b[0m│              0 │\n",
       "│\u001b[2m \u001b[0m\u001b[2mVehicle Code        \u001b[0m\u001b[2m \u001b[0m│              0 │\n",
       "│\u001b[2m \u001b[0m\u001b[2mOEM Model Name      \u001b[0m\u001b[2m \u001b[0m│              0 │\n",
       "│\u001b[2m \u001b[0m\u001b[2mSIAM Company Code   \u001b[0m\u001b[2m \u001b[0m│              0 │\n",
       "│\u001b[2m \u001b[0m\u001b[2mSIAM Segment 1      \u001b[0m\u001b[2m \u001b[0m│             12 │\n",
       "│\u001b[2m \u001b[0m\u001b[2mSIAM Segment 2      \u001b[0m\u001b[2m \u001b[0m│              0 │\n",
       "│\u001b[2m \u001b[0m\u001b[2mSIAM Fuel           \u001b[0m\u001b[2m \u001b[0m│             18 │\n",
       "│\u001b[2m \u001b[0m\u001b[2mMonth               \u001b[0m\u001b[2m \u001b[0m│              0 │\n",
       "│\u001b[2m \u001b[0m\u001b[2mYear                \u001b[0m\u001b[2m \u001b[0m│              0 │\n",
       "│\u001b[2m \u001b[0m\u001b[2mProduction Qty      \u001b[0m\u001b[2m \u001b[0m│              0 │\n",
       "│\u001b[2m \u001b[0m\u001b[2mDomestic Sale       \u001b[0m\u001b[2m \u001b[0m│              0 │\n",
       "│\u001b[2m \u001b[0m\u001b[2mExport Sale         \u001b[0m\u001b[2m \u001b[0m│              0 │\n",
       "│\u001b[2m \u001b[0m\u001b[2mCategory            \u001b[0m\u001b[2m \u001b[0m│           1097 │\n",
       "│\u001b[2m \u001b[0m\u001b[2mCategory Name       \u001b[0m\u001b[2m \u001b[0m│           1097 │\n",
       "│\u001b[2m \u001b[0m\u001b[2mYrMth               \u001b[0m\u001b[2m \u001b[0m│              0 │\n",
       "└──────────────────────┴────────────────┘\n"
      ]
     },
     "metadata": {},
     "output_type": "display_data"
    },
    {
     "data": {
      "text/html": [
       "<pre style=\"white-space:pre;overflow-x:auto;line-height:normal;font-family:Menlo,'DejaVu Sans Mono',consolas,'Courier New',monospace\"><span style=\"font-weight: bold\">Duplicate rows in the dataset</span>\n",
       "</pre>\n"
      ],
      "text/plain": [
       "\u001b[1mDuplicate rows in the dataset\u001b[0m\n"
      ]
     },
     "metadata": {},
     "output_type": "display_data"
    },
    {
     "data": {
      "text/html": [
       "<pre style=\"white-space:pre;overflow-x:auto;line-height:normal;font-family:Menlo,'DejaVu Sans Mono',consolas,'Courier New',monospace\">Duplicate Rows: <span style=\"color: #008080; text-decoration-color: #008080; font-weight: bold\">0</span>\n",
       "</pre>\n"
      ],
      "text/plain": [
       "Duplicate Rows: \u001b[1;36m0\u001b[0m\n"
      ]
     },
     "metadata": {},
     "output_type": "display_data"
    },
    {
     "data": {
      "text/html": [
       "<pre style=\"white-space:pre;overflow-x:auto;line-height:normal;font-family:Menlo,'DejaVu Sans Mono',consolas,'Courier New',monospace\"><span style=\"font-weight: bold\">Unique values in each column</span>\n",
       "</pre>\n"
      ],
      "text/plain": [
       "\u001b[1mUnique values in each column\u001b[0m\n"
      ]
     },
     "metadata": {},
     "output_type": "display_data"
    },
    {
     "data": {
      "text/html": [
       "<pre style=\"white-space:pre;overflow-x:auto;line-height:normal;font-family:Menlo,'DejaVu Sans Mono',consolas,'Courier New',monospace\">┏━━━━━━━━━━━━━━━━━━━━━━┳━━━━━━━━━━━━━━━┓\n",
       "┃<span style=\"color: #800080; text-decoration-color: #800080; font-weight: bold\"> Column               </span>┃<span style=\"color: #800080; text-decoration-color: #800080; font-weight: bold\"> Unique Values </span>┃\n",
       "┡━━━━━━━━━━━━━━━━━━━━━━╇━━━━━━━━━━━━━━━┩\n",
       "│<span style=\"color: #7f7f7f; text-decoration-color: #7f7f7f\"> Vehicle Full Code    </span>│           452 │\n",
       "│<span style=\"color: #7f7f7f; text-decoration-color: #7f7f7f\"> Vehicle Code         </span>│           197 │\n",
       "│<span style=\"color: #7f7f7f; text-decoration-color: #7f7f7f\"> OEM Model Name       </span>│           206 │\n",
       "│<span style=\"color: #7f7f7f; text-decoration-color: #7f7f7f\"> SIAM Company Code    </span>│            23 │\n",
       "│<span style=\"color: #7f7f7f; text-decoration-color: #7f7f7f\"> SIAM Segment 1       </span>│            12 │\n",
       "│<span style=\"color: #7f7f7f; text-decoration-color: #7f7f7f\"> SIAM Segment 2       </span>│            15 │\n",
       "│<span style=\"color: #7f7f7f; text-decoration-color: #7f7f7f\"> SIAM Fuel            </span>│             6 │\n",
       "│<span style=\"color: #7f7f7f; text-decoration-color: #7f7f7f\"> Month                </span>│            12 │\n",
       "│<span style=\"color: #7f7f7f; text-decoration-color: #7f7f7f\"> Year                 </span>│             8 │\n",
       "│<span style=\"color: #7f7f7f; text-decoration-color: #7f7f7f\"> Production Qty       </span>│          4413 │\n",
       "│<span style=\"color: #7f7f7f; text-decoration-color: #7f7f7f\"> Domestic Sale        </span>│          4162 │\n",
       "│<span style=\"color: #7f7f7f; text-decoration-color: #7f7f7f\"> Export Sale          </span>│          1794 │\n",
       "│<span style=\"color: #7f7f7f; text-decoration-color: #7f7f7f\"> Category             </span>│             3 │\n",
       "│<span style=\"color: #7f7f7f; text-decoration-color: #7f7f7f\"> Category Name        </span>│             3 │\n",
       "│<span style=\"color: #7f7f7f; text-decoration-color: #7f7f7f\"> YrMth                </span>│            93 │\n",
       "└──────────────────────┴───────────────┘\n",
       "</pre>\n"
      ],
      "text/plain": [
       "┏━━━━━━━━━━━━━━━━━━━━━━┳━━━━━━━━━━━━━━━┓\n",
       "┃\u001b[1;35m \u001b[0m\u001b[1;35mColumn              \u001b[0m\u001b[1;35m \u001b[0m┃\u001b[1;35m \u001b[0m\u001b[1;35mUnique Values\u001b[0m\u001b[1;35m \u001b[0m┃\n",
       "┡━━━━━━━━━━━━━━━━━━━━━━╇━━━━━━━━━━━━━━━┩\n",
       "│\u001b[2m \u001b[0m\u001b[2mVehicle Full Code   \u001b[0m\u001b[2m \u001b[0m│           452 │\n",
       "│\u001b[2m \u001b[0m\u001b[2mVehicle Code        \u001b[0m\u001b[2m \u001b[0m│           197 │\n",
       "│\u001b[2m \u001b[0m\u001b[2mOEM Model Name      \u001b[0m\u001b[2m \u001b[0m│           206 │\n",
       "│\u001b[2m \u001b[0m\u001b[2mSIAM Company Code   \u001b[0m\u001b[2m \u001b[0m│            23 │\n",
       "│\u001b[2m \u001b[0m\u001b[2mSIAM Segment 1      \u001b[0m\u001b[2m \u001b[0m│            12 │\n",
       "│\u001b[2m \u001b[0m\u001b[2mSIAM Segment 2      \u001b[0m\u001b[2m \u001b[0m│            15 │\n",
       "│\u001b[2m \u001b[0m\u001b[2mSIAM Fuel           \u001b[0m\u001b[2m \u001b[0m│             6 │\n",
       "│\u001b[2m \u001b[0m\u001b[2mMonth               \u001b[0m\u001b[2m \u001b[0m│            12 │\n",
       "│\u001b[2m \u001b[0m\u001b[2mYear                \u001b[0m\u001b[2m \u001b[0m│             8 │\n",
       "│\u001b[2m \u001b[0m\u001b[2mProduction Qty      \u001b[0m\u001b[2m \u001b[0m│          4413 │\n",
       "│\u001b[2m \u001b[0m\u001b[2mDomestic Sale       \u001b[0m\u001b[2m \u001b[0m│          4162 │\n",
       "│\u001b[2m \u001b[0m\u001b[2mExport Sale         \u001b[0m\u001b[2m \u001b[0m│          1794 │\n",
       "│\u001b[2m \u001b[0m\u001b[2mCategory            \u001b[0m\u001b[2m \u001b[0m│             3 │\n",
       "│\u001b[2m \u001b[0m\u001b[2mCategory Name       \u001b[0m\u001b[2m \u001b[0m│             3 │\n",
       "│\u001b[2m \u001b[0m\u001b[2mYrMth               \u001b[0m\u001b[2m \u001b[0m│            93 │\n",
       "└──────────────────────┴───────────────┘\n"
      ]
     },
     "metadata": {},
     "output_type": "display_data"
    }
   ],
   "source": [
    "from rich import print\n",
    "from rich.table import Table\n",
    "\n",
    "# Checking for missing values across the dataset\n",
    "print(\"[bold]Missing values across the dataset[/bold]\")\n",
    "missing_values = df.isnull().sum()\n",
    "\n",
    "# Create a table for missing values\n",
    "table_missing = Table(show_header=True, header_style=\"bold magenta\")\n",
    "table_missing.add_column(\"Column\", style=\"dim\", width=20)\n",
    "table_missing.add_column(\"Missing Values\", justify=\"right\")\n",
    "\n",
    "for col, val in missing_values.items():\n",
    "    table_missing.add_row(col, str(val))\n",
    "\n",
    "print(table_missing)\n",
    "\n",
    "# Checking for duplicate rows\n",
    "print(\"[bold]Duplicate rows in the dataset[/bold]\")\n",
    "duplicate_rows = df.duplicated().sum()\n",
    "print(f\"Duplicate Rows: {duplicate_rows}\")\n",
    "\n",
    "# Checking for unique values in each column to spot potential issues\n",
    "print(\"[bold]Unique values in each column[/bold]\")\n",
    "unique_values_summary = df.nunique()\n",
    "\n",
    "# Create a table for unique values\n",
    "table_unique = Table(show_header=True, header_style=\"bold magenta\")\n",
    "table_unique.add_column(\"Column\", style=\"dim\", width=20)\n",
    "table_unique.add_column(\"Unique Values\", justify=\"right\")\n",
    "\n",
    "for col, val in unique_values_summary.items():\n",
    "    table_unique.add_row(col, str(val))\n",
    "\n",
    "print(table_unique)"
   ]
  },
  {
   "cell_type": "markdown",
   "metadata": {},
   "source": [
    "> Data Quality Findings\n",
    "\n",
    "- "
   ]
  },
  {
   "cell_type": "code",
   "execution_count": null,
   "metadata": {},
   "outputs": [],
   "source": []
  }
 ],
 "metadata": {
  "kernelspec": {
   "display_name": ".venv",
   "language": "python",
   "name": "python3"
  },
  "language_info": {
   "codemirror_mode": {
    "name": "ipython",
    "version": 3
   },
   "file_extension": ".py",
   "mimetype": "text/x-python",
   "name": "python",
   "nbconvert_exporter": "python",
   "pygments_lexer": "ipython3",
   "version": "3.12.3"
  }
 },
 "nbformat": 4,
 "nbformat_minor": 2
}
